{
 "cells": [
  {
   "cell_type": "markdown",
   "id": "4b0ece30",
   "metadata": {},
   "source": [
    "# Jupyter notebook tricks\n",
    "* Magic functions\n",
    "* Markdown, LaTeX, embed images and videos\n",
    "* Useful shortcuts (A, B, X, evaluate and stay on cell, evaluate and insert new cell)\n",
    "* Terminal commands using !"
   ]
  },
  {
   "cell_type": "code",
   "execution_count": null,
   "id": "70cf861d",
   "metadata": {},
   "outputs": [],
   "source": []
  }
 ],
 "metadata": {
  "kernelspec": {
   "display_name": "Python 3 (ipykernel)",
   "language": "python",
   "name": "python3"
  },
  "language_info": {
   "codemirror_mode": {
    "name": "ipython",
    "version": 3
   },
   "file_extension": ".py",
   "mimetype": "text/x-python",
   "name": "python",
   "nbconvert_exporter": "python",
   "pygments_lexer": "ipython3",
   "version": "3.8.10"
  }
 },
 "nbformat": 4,
 "nbformat_minor": 5
}
