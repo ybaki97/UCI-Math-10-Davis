{
 "cells": [
  {
   "cell_type": "markdown",
   "id": "cd0ee37a",
   "metadata": {},
   "source": [
    "Among the Python libraries I use most often, I've always found Matplotlib to be one of the least intuitive, even though a lot of its syntax is based on Matlab.  In this notebook, I'll try to give a quick introduction to Matplotlib, emphasizing the features we'll use throughout the course.\n",
    "\n",
    "Some alternatives to Matplotlib are Seaborn, Bokeh, and Plotly, and some aspects of Matplotlib can be made more intuitive using HoloViews.  We won't cover these alternatives in Math 10, and even if you prefer something different, it is important to know Matplotlib, because it is the most commonly used plotting library."
   ]
  },
  {
   "cell_type": "code",
   "execution_count": null,
   "id": "d0f668cf",
   "metadata": {},
   "outputs": [],
   "source": []
  }
 ],
 "metadata": {
  "kernelspec": {
   "display_name": "Python 3",
   "language": "python",
   "name": "python3"
  },
  "language_info": {
   "codemirror_mode": {
    "name": "ipython",
    "version": 3
   },
   "file_extension": ".py",
   "mimetype": "text/x-python",
   "name": "python",
   "nbconvert_exporter": "python",
   "pygments_lexer": "ipython3",
   "version": "3.9.2"
  }
 },
 "nbformat": 4,
 "nbformat_minor": 5
}
