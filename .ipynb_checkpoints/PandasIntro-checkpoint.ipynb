{
 "cells": [
  {
   "cell_type": "markdown",
   "id": "c7259e4a",
   "metadata": {},
   "source": [
    "Our standard way of working with datasets in Math 10 is using the pandas library"
   ]
  },
  {
   "cell_type": "code",
   "execution_count": null,
   "id": "2b416b88",
   "metadata": {},
   "outputs": [],
   "source": []
  }
 ],
 "metadata": {
  "kernelspec": {
   "display_name": "Python 3",
   "language": "python",
   "name": "python3"
  },
  "language_info": {
   "codemirror_mode": {
    "name": "ipython",
    "version": 3
   },
   "file_extension": ".py",
   "mimetype": "text/x-python",
   "name": "python",
   "nbconvert_exporter": "python",
   "pygments_lexer": "ipython3",
   "version": "3.9.2"
  }
 },
 "nbformat": 4,
 "nbformat_minor": 5
}
