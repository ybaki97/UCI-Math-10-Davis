{
 "cells": [
  {
   "cell_type": "code",
   "execution_count": 1,
   "metadata": {},
   "outputs": [],
   "source": [
    "import pandas as pd"
   ]
  },
  {
   "cell_type": "code",
   "execution_count": 3,
   "metadata": {},
   "outputs": [],
   "source": [
    "df = pd.read_html(\"http://www.olympedia.org/editions/61/medal\")"
   ]
  },
  {
   "cell_type": "code",
   "execution_count": 4,
   "metadata": {},
   "outputs": [
    {
     "data": {
      "text/plain": [
       "list"
      ]
     },
     "execution_count": 4,
     "metadata": {},
     "output_type": "execute_result"
    }
   ],
   "source": [
    "type(df)"
   ]
  },
  {
   "cell_type": "code",
   "execution_count": 5,
   "metadata": {},
   "outputs": [
    {
     "data": {
      "text/plain": [
       "1"
      ]
     },
     "execution_count": 5,
     "metadata": {},
     "output_type": "execute_result"
    }
   ],
   "source": [
    "len(df)"
   ]
  },
  {
   "cell_type": "code",
   "execution_count": 6,
   "metadata": {},
   "outputs": [
    {
     "data": {
      "text/html": [
       "<div>\n",
       "<style scoped>\n",
       "    .dataframe tbody tr th:only-of-type {\n",
       "        vertical-align: middle;\n",
       "    }\n",
       "\n",
       "    .dataframe tbody tr th {\n",
       "        vertical-align: top;\n",
       "    }\n",
       "\n",
       "    .dataframe thead th {\n",
       "        text-align: right;\n",
       "    }\n",
       "</style>\n",
       "<table border=\"1\" class=\"dataframe\">\n",
       "  <thead>\n",
       "    <tr style=\"text-align: right;\">\n",
       "      <th></th>\n",
       "      <th>Sport/Event</th>\n",
       "      <th>Gold</th>\n",
       "      <th>Unnamed: 2</th>\n",
       "      <th>Silver</th>\n",
       "      <th>Unnamed: 4</th>\n",
       "      <th>Bronze</th>\n",
       "      <th>Unnamed: 6</th>\n",
       "    </tr>\n",
       "  </thead>\n",
       "  <tbody>\n",
       "    <tr>\n",
       "      <th>0</th>\n",
       "      <td>3x3 Basketball</td>\n",
       "      <td>3x3 Basketball</td>\n",
       "      <td>3x3 Basketball</td>\n",
       "      <td>3x3 Basketball</td>\n",
       "      <td>3x3 Basketball</td>\n",
       "      <td>3x3 Basketball</td>\n",
       "      <td>3x3 Basketball</td>\n",
       "    </tr>\n",
       "    <tr>\n",
       "      <th>1</th>\n",
       "      <td>3x3 Basketball, Men</td>\n",
       "      <td>Latvia</td>\n",
       "      <td>LAT</td>\n",
       "      <td>Russian Olympic Committee</td>\n",
       "      <td>ROC</td>\n",
       "      <td>Serbia</td>\n",
       "      <td>SRB</td>\n",
       "    </tr>\n",
       "    <tr>\n",
       "      <th>2</th>\n",
       "      <td>3x3 Basketball, Women</td>\n",
       "      <td>United States</td>\n",
       "      <td>USA</td>\n",
       "      <td>Russian Olympic Committee</td>\n",
       "      <td>ROC</td>\n",
       "      <td>People's Republic of China</td>\n",
       "      <td>CHN</td>\n",
       "    </tr>\n",
       "    <tr>\n",
       "      <th>3</th>\n",
       "      <td>Archery</td>\n",
       "      <td>Archery</td>\n",
       "      <td>Archery</td>\n",
       "      <td>Archery</td>\n",
       "      <td>Archery</td>\n",
       "      <td>Archery</td>\n",
       "      <td>Archery</td>\n",
       "    </tr>\n",
       "    <tr>\n",
       "      <th>4</th>\n",
       "      <td>Individual, Men</td>\n",
       "      <td>Mete Gazoz</td>\n",
       "      <td>TUR</td>\n",
       "      <td>Mauro Nespoli</td>\n",
       "      <td>ITA</td>\n",
       "      <td>Takaharu Furukawa</td>\n",
       "      <td>JPN</td>\n",
       "    </tr>\n",
       "    <tr>\n",
       "      <th>...</th>\n",
       "      <td>...</td>\n",
       "      <td>...</td>\n",
       "      <td>...</td>\n",
       "      <td>...</td>\n",
       "      <td>...</td>\n",
       "      <td>...</td>\n",
       "      <td>...</td>\n",
       "    </tr>\n",
       "    <tr>\n",
       "      <th>383</th>\n",
       "      <td>Featherweight, Freestyle, Women</td>\n",
       "      <td>Mayu Mukaida</td>\n",
       "      <td>JPN</td>\n",
       "      <td>Pang Qianyu</td>\n",
       "      <td>CHN</td>\n",
       "      <td>Vanesa KaladzinskayaBat Ochir Bolortuya</td>\n",
       "      <td>BLRMGL</td>\n",
       "    </tr>\n",
       "    <tr>\n",
       "      <th>384</th>\n",
       "      <td>Lightweight, Freestyle, Women</td>\n",
       "      <td>Risako Kawai</td>\n",
       "      <td>JPN</td>\n",
       "      <td>Iryna Kurachkina</td>\n",
       "      <td>BLR</td>\n",
       "      <td>Evelina NikolovaHelen Maroulis</td>\n",
       "      <td>BULUSA</td>\n",
       "    </tr>\n",
       "    <tr>\n",
       "      <th>385</th>\n",
       "      <td>Middleweight, Freestyle, Women</td>\n",
       "      <td>Yukako Kawai</td>\n",
       "      <td>JPN</td>\n",
       "      <td>Aysuluu Tynybekova</td>\n",
       "      <td>KGZ</td>\n",
       "      <td>Taybe YuseinIryna Koliadenko</td>\n",
       "      <td>BULUKR</td>\n",
       "    </tr>\n",
       "    <tr>\n",
       "      <th>386</th>\n",
       "      <td>Light-Heavyweight, Freestyle, Women</td>\n",
       "      <td>Tamyra Stock Mensah</td>\n",
       "      <td>USA</td>\n",
       "      <td>Blessing Oborududu</td>\n",
       "      <td>NGR</td>\n",
       "      <td>Meerim ZhumanazarovaAlla Cherkasova</td>\n",
       "      <td>KGZUKR</td>\n",
       "    </tr>\n",
       "    <tr>\n",
       "      <th>387</th>\n",
       "      <td>Heavyweight, Freestyle, Women</td>\n",
       "      <td>Aline Rotter-Focken</td>\n",
       "      <td>GER</td>\n",
       "      <td>Adeline Gray</td>\n",
       "      <td>USA</td>\n",
       "      <td>Zhou QianYasemin Adar</td>\n",
       "      <td>CHNTUR</td>\n",
       "    </tr>\n",
       "  </tbody>\n",
       "</table>\n",
       "<p>388 rows × 7 columns</p>\n",
       "</div>"
      ],
      "text/plain": [
       "                             Sport/Event                 Gold      Unnamed: 2  \\\n",
       "0                         3x3 Basketball       3x3 Basketball  3x3 Basketball   \n",
       "1                    3x3 Basketball, Men               Latvia             LAT   \n",
       "2                  3x3 Basketball, Women        United States             USA   \n",
       "3                                Archery              Archery         Archery   \n",
       "4                        Individual, Men           Mete Gazoz             TUR   \n",
       "..                                   ...                  ...             ...   \n",
       "383      Featherweight, Freestyle, Women         Mayu Mukaida             JPN   \n",
       "384        Lightweight, Freestyle, Women         Risako Kawai             JPN   \n",
       "385       Middleweight, Freestyle, Women         Yukako Kawai             JPN   \n",
       "386  Light-Heavyweight, Freestyle, Women  Tamyra Stock Mensah             USA   \n",
       "387        Heavyweight, Freestyle, Women  Aline Rotter-Focken             GER   \n",
       "\n",
       "                        Silver      Unnamed: 4  \\\n",
       "0               3x3 Basketball  3x3 Basketball   \n",
       "1    Russian Olympic Committee             ROC   \n",
       "2    Russian Olympic Committee             ROC   \n",
       "3                      Archery         Archery   \n",
       "4                Mauro Nespoli             ITA   \n",
       "..                         ...             ...   \n",
       "383                Pang Qianyu             CHN   \n",
       "384           Iryna Kurachkina             BLR   \n",
       "385         Aysuluu Tynybekova             KGZ   \n",
       "386         Blessing Oborududu             NGR   \n",
       "387               Adeline Gray             USA   \n",
       "\n",
       "                                      Bronze      Unnamed: 6  \n",
       "0                             3x3 Basketball  3x3 Basketball  \n",
       "1                                     Serbia             SRB  \n",
       "2                 People's Republic of China             CHN  \n",
       "3                                    Archery         Archery  \n",
       "4                          Takaharu Furukawa             JPN  \n",
       "..                                       ...             ...  \n",
       "383  Vanesa KaladzinskayaBat Ochir Bolortuya          BLRMGL  \n",
       "384           Evelina NikolovaHelen Maroulis          BULUSA  \n",
       "385             Taybe YuseinIryna Koliadenko          BULUKR  \n",
       "386      Meerim ZhumanazarovaAlla Cherkasova          KGZUKR  \n",
       "387                    Zhou QianYasemin Adar          CHNTUR  \n",
       "\n",
       "[388 rows x 7 columns]"
      ]
     },
     "execution_count": 6,
     "metadata": {},
     "output_type": "execute_result"
    }
   ],
   "source": [
    "df[0]"
   ]
  },
  {
   "cell_type": "code",
   "execution_count": 7,
   "metadata": {},
   "outputs": [],
   "source": [
    "abbrev = pd.read_html(\"http://www.olympedia.org/countries\")"
   ]
  },
  {
   "cell_type": "code",
   "execution_count": 9,
   "metadata": {},
   "outputs": [
    {
     "data": {
      "text/plain": [
       "2"
      ]
     },
     "execution_count": 9,
     "metadata": {},
     "output_type": "execute_result"
    }
   ],
   "source": [
    "len(abbrev)"
   ]
  },
  {
   "cell_type": "code",
   "execution_count": 11,
   "metadata": {},
   "outputs": [
    {
     "data": {
      "text/html": [
       "<div>\n",
       "<style scoped>\n",
       "    .dataframe tbody tr th:only-of-type {\n",
       "        vertical-align: middle;\n",
       "    }\n",
       "\n",
       "    .dataframe tbody tr th {\n",
       "        vertical-align: top;\n",
       "    }\n",
       "\n",
       "    .dataframe thead th {\n",
       "        text-align: right;\n",
       "    }\n",
       "</style>\n",
       "<table border=\"1\" class=\"dataframe\">\n",
       "  <thead>\n",
       "    <tr style=\"text-align: right;\">\n",
       "      <th></th>\n",
       "      <th>Abbreviation</th>\n",
       "      <th>Country</th>\n",
       "      <th>Competed in Modern Olympics?</th>\n",
       "    </tr>\n",
       "  </thead>\n",
       "  <tbody>\n",
       "    <tr>\n",
       "      <th>0</th>\n",
       "      <td>AAI</td>\n",
       "      <td>Adai</td>\n",
       "      <td>NaN</td>\n",
       "    </tr>\n",
       "    <tr>\n",
       "      <th>1</th>\n",
       "      <td>ADA</td>\n",
       "      <td>Adana</td>\n",
       "      <td>NaN</td>\n",
       "    </tr>\n",
       "    <tr>\n",
       "      <th>2</th>\n",
       "      <td>ADR</td>\n",
       "      <td>Adramyttion</td>\n",
       "      <td>NaN</td>\n",
       "    </tr>\n",
       "    <tr>\n",
       "      <th>3</th>\n",
       "      <td>AGR</td>\n",
       "      <td>Aigeira</td>\n",
       "      <td>NaN</td>\n",
       "    </tr>\n",
       "    <tr>\n",
       "      <th>4</th>\n",
       "      <td>AIG</td>\n",
       "      <td>Aigion</td>\n",
       "      <td>NaN</td>\n",
       "    </tr>\n",
       "    <tr>\n",
       "      <th>...</th>\n",
       "      <td>...</td>\n",
       "      <td>...</td>\n",
       "      <td>...</td>\n",
       "    </tr>\n",
       "    <tr>\n",
       "      <th>168</th>\n",
       "      <td>KRE</td>\n",
       "      <td>Unknown city in Crete</td>\n",
       "      <td>NaN</td>\n",
       "    </tr>\n",
       "    <tr>\n",
       "      <th>169</th>\n",
       "      <td>EGP</td>\n",
       "      <td>Unknown city in Egypt</td>\n",
       "      <td>NaN</td>\n",
       "    </tr>\n",
       "    <tr>\n",
       "      <th>170</th>\n",
       "      <td>LOK</td>\n",
       "      <td>Unknown city in Lokria</td>\n",
       "      <td>NaN</td>\n",
       "    </tr>\n",
       "    <tr>\n",
       "      <th>171</th>\n",
       "      <td>XAN</td>\n",
       "      <td>Xanthos</td>\n",
       "      <td>NaN</td>\n",
       "    </tr>\n",
       "    <tr>\n",
       "      <th>172</th>\n",
       "      <td>ZAK</td>\n",
       "      <td>Zakynthos</td>\n",
       "      <td>NaN</td>\n",
       "    </tr>\n",
       "  </tbody>\n",
       "</table>\n",
       "<p>173 rows × 3 columns</p>\n",
       "</div>"
      ],
      "text/plain": [
       "    Abbreviation                 Country  Competed in Modern Olympics?\n",
       "0            AAI                    Adai                           NaN\n",
       "1            ADA                   Adana                           NaN\n",
       "2            ADR             Adramyttion                           NaN\n",
       "3            AGR                 Aigeira                           NaN\n",
       "4            AIG                  Aigion                           NaN\n",
       "..           ...                     ...                           ...\n",
       "168          KRE   Unknown city in Crete                           NaN\n",
       "169          EGP   Unknown city in Egypt                           NaN\n",
       "170          LOK  Unknown city in Lokria                           NaN\n",
       "171          XAN                 Xanthos                           NaN\n",
       "172          ZAK               Zakynthos                           NaN\n",
       "\n",
       "[173 rows x 3 columns]"
      ]
     },
     "execution_count": 11,
     "metadata": {},
     "output_type": "execute_result"
    }
   ],
   "source": [
    "abbrev[1]"
   ]
  },
  {
   "cell_type": "code",
   "execution_count": null,
   "metadata": {},
   "outputs": [],
   "source": []
  }
 ],
 "metadata": {
  "kernelspec": {
   "display_name": "Python 3",
   "language": "python",
   "name": "python3"
  },
  "language_info": {
   "codemirror_mode": {
    "name": "ipython",
    "version": 3
   },
   "file_extension": ".py",
   "mimetype": "text/x-python",
   "name": "python",
   "nbconvert_exporter": "python",
   "pygments_lexer": "ipython3",
   "version": "3.8.5"
  }
 },
 "nbformat": 4,
 "nbformat_minor": 4
}
