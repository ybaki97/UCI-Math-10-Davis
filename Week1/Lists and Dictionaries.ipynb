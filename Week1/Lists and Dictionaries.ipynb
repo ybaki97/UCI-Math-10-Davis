{
 "cells": [
  {
   "cell_type": "markdown",
   "id": "3ce0dabe",
   "metadata": {},
   "source": [
    "# Lists and Dictionaries\n",
    "Of the built-in data structures in Python (as opposed to data structures defined in an external library like NumPy or pandas), the most important types for Math 10 are lists and dictionaries."
   ]
  },
  {
   "cell_type": "markdown",
   "id": "9c638b81",
   "metadata": {},
   "source": [
    "## Lists"
   ]
  },
  {
   "cell_type": "markdown",
   "id": "27b9b024",
   "metadata": {},
   "source": [
    "The most basic way to make a list is to use square brackets."
   ]
  },
  {
   "cell_type": "code",
   "execution_count": 9,
   "id": "7a6c9739",
   "metadata": {},
   "outputs": [],
   "source": [
    "myList = [3,1,4,1,5,9]"
   ]
  },
  {
   "cell_type": "markdown",
   "id": "33a564bc",
   "metadata": {},
   "source": [
    "In Python, indexing always starts with 0."
   ]
  },
  {
   "cell_type": "code",
   "execution_count": 6,
   "id": "a68c8632",
   "metadata": {},
   "outputs": [
    {
     "data": {
      "text/plain": [
       "3"
      ]
     },
     "execution_count": 6,
     "metadata": {},
     "output_type": "execute_result"
    }
   ],
   "source": [
    "myList[0]"
   ]
  },
  {
   "cell_type": "code",
   "execution_count": 7,
   "id": "e99134e9",
   "metadata": {},
   "outputs": [
    {
     "data": {
      "text/plain": [
       "4"
      ]
     },
     "execution_count": 7,
     "metadata": {},
     "output_type": "execute_result"
    }
   ],
   "source": [
    "myList[2]"
   ]
  },
  {
   "cell_type": "code",
   "execution_count": 11,
   "id": "aacab20b",
   "metadata": {},
   "outputs": [
    {
     "data": {
      "text/plain": [
       "[1, 4]"
      ]
     },
     "execution_count": 11,
     "metadata": {},
     "output_type": "execute_result"
    }
   ],
   "source": [
    "myList[1:3]"
   ]
  },
  {
   "cell_type": "code",
   "execution_count": 10,
   "id": "953c5b33",
   "metadata": {},
   "outputs": [
    {
     "data": {
      "text/plain": [
       "[9, 5, 1, 4, 1, 3]"
      ]
     },
     "execution_count": 10,
     "metadata": {},
     "output_type": "execute_result"
    }
   ],
   "source": [
    "myList[::-1]"
   ]
  },
  {
   "cell_type": "code",
   "execution_count": 13,
   "id": "3c68271c",
   "metadata": {},
   "outputs": [],
   "source": [
    "import numpy as np"
   ]
  },
  {
   "cell_type": "code",
   "execution_count": 23,
   "id": "b6a77d45",
   "metadata": {},
   "outputs": [
    {
     "data": {
      "text/plain": [
       "'0.00'"
      ]
     },
     "execution_count": 23,
     "metadata": {},
     "output_type": "execute_result"
    }
   ],
   "source": [
    "f'{np.sin(3.14159):.2f}'"
   ]
  },
  {
   "cell_type": "markdown",
   "id": "cf66a1ff",
   "metadata": {},
   "source": [
    "## Dictionaries"
   ]
  },
  {
   "cell_type": "code",
   "execution_count": null,
   "id": "dcc9afe9",
   "metadata": {},
   "outputs": [],
   "source": [
    "list((3,5,10))"
   ]
  },
  {
   "cell_type": "code",
   "execution_count": 4,
   "id": "9c522db3",
   "metadata": {},
   "outputs": [
    {
     "data": {
      "text/plain": [
       "[10, 3, 5]"
      ]
     },
     "execution_count": 4,
     "metadata": {},
     "output_type": "execute_result"
    }
   ],
   "source": [
    "list({3,5,10})"
   ]
  },
  {
   "cell_type": "code",
   "execution_count": null,
   "id": "e8f7ea0e",
   "metadata": {},
   "outputs": [],
   "source": []
  }
 ],
 "metadata": {
  "kernelspec": {
   "display_name": "Python 3 (ipykernel)",
   "language": "python",
   "name": "python3"
  },
  "language_info": {
   "codemirror_mode": {
    "name": "ipython",
    "version": 3
   },
   "file_extension": ".py",
   "mimetype": "text/x-python",
   "name": "python",
   "nbconvert_exporter": "python",
   "pygments_lexer": "ipython3",
   "version": "3.8.10"
  }
 },
 "nbformat": 4,
 "nbformat_minor": 5
}
